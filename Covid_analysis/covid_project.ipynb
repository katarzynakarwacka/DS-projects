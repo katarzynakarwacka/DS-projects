{
 "cells": [
  {
   "cell_type": "markdown",
   "metadata": {},
   "source": [
    "An __Exploratory Data Analysis__ has been conducted on a Mexican dataset covering the early stages of the COVID-19 pandemic.\n",
    "\n",
    "Source: https://www.kaggle.com/datasets/meirnizri/covid19-dataset.\n",
    "\n",
    "__The objective__ of the analysis is to identify factors influencing the progression of the COVID-19 disease and, consequently, enhance prognostication.\n",
    "\n",
    "The dataset includes information on various factors such as age, gender, pregnancy, comorbid diseases, obesity, medication, and the history of treatment (whether a patient was admitted to the hospital, intubated, etc.).\n",
    "\n",
    "__Conclusions:__\n",
    "\n",
    "1. The highest number of cases is reported in medical units ‘4’ and ‘12’. These units may be particularly susceptible to the influx of COVID-19 patients. The provided information will aid, among other things, in:\n",
    "    - Prioritizing the allocation of equipment and medical personnel resources.\n",
    "    - Planning interventions and allocating preventive measures to minimize future waves of infections.\n",
    "    - Identifying risk factors in these units.\n",
    "\n",
    "2. The development of pneumonia significantly increases the mortality rate, underscoring the critical importance of effective pneumonia treatment to enhance the chances of survival.\n",
    "\n",
    "3. Nearly 60% of individuals considered 'healthy' (without any chronic diseases listed in the dataset) have contracted pneumonia. This suggests that being healthy does not necessarily reduce the risk of a severe course of COVID-19.\n",
    "\n",
    "4. Factors such as obesity and smoking do not appear to predispose patients to a more severe illness.\n",
    "\n",
    "\n",
    "As the analyzed dataset only spans the initial stages of the COVID-19 pandemic, it is recommended to perform additional analysis using more recent data."
   ]
  },
  {
   "cell_type": "code",
   "execution_count": null,
   "metadata": {},
   "outputs": [],
   "source": [
    "import datetime\n",
    "import numpy as np\n",
    "import pandas as pd\n",
    "import scipy as sp\n",
    "import matplotlib.pyplot as plt\n",
    "import seaborn as sns"
   ]
  },
  {
   "cell_type": "code",
   "execution_count": null,
   "metadata": {},
   "outputs": [],
   "source": [
    "#importing data and replacing fake dates with NaT \n",
    "df = pd.read_csv('Covid Data.csv')\n",
    "df.head(20)\n",
    "\n",
    "df['DATE_DIED'] = df['DATE_DIED'].replace('9999-99-99', pd.NaT)\n",
    "\n"
   ]
  },
  {
   "cell_type": "code",
   "execution_count": null,
   "metadata": {},
   "outputs": [],
   "source": [
    "#As '97' and '99' values are in fact missing data; rows containing it will be filtered out \n",
    "temp_list = [97,98,99]\n",
    "df_analysis = df[(~df[\"ICU\"].isin(temp_list))&(~df[\"TOBACCO\"].isin(temp_list))&(~df[\"RENAL_CHRONIC\"].isin(temp_list))&(~df[\"OBESITY\"].isin(temp_list))& (~df[\"CARDIOVASCULAR\"].isin(temp_list))& (~df[\"OTHER_DISEASE\"].isin(temp_list))& (~df[\"HIPERTENSION\"].isin(temp_list))& (~df[\"INTUBED\"].isin(temp_list)) & (~df[\"PNEUMONIA\"].isin(temp_list)) & (~df[\"PREGNANT\"].isin(temp_list)) & (~df[\"DIABETES\"].isin(temp_list))& (~df[\"INTUBED\"].isin(temp_list)) & (~df[\"PNEUMONIA\"].isin(temp_list)) & (~df[\"COPD\"].isin(temp_list)) & (~df[\"ASTHMA\"].isin(temp_list)) & (~df[\"INMSUPR\"].isin(temp_list))]"
   ]
  },
  {
   "cell_type": "code",
   "execution_count": null,
   "metadata": {},
   "outputs": [],
   "source": [
    "#creating a new variable indicating whether a patient has or has not been diagnosed with Covid\n",
    "df_analysis[\"DIAGNOSED_COVID\"] = np.where((df_analysis[\"CLASIFFICATION_FINAL\"] > 3), 2, 1)"
   ]
  },
  {
   "cell_type": "code",
   "execution_count": null,
   "metadata": {},
   "outputs": [],
   "source": [
    "#checking the number of duplicates\n",
    "df.duplicated().sum()"
   ]
  },
  {
   "cell_type": "code",
   "execution_count": null,
   "metadata": {},
   "outputs": [],
   "source": [
    "#removing duplicates\n",
    "df_analysis2 = df_analysis.drop_duplicates()"
   ]
  },
  {
   "cell_type": "code",
   "execution_count": null,
   "metadata": {},
   "outputs": [],
   "source": [
    "df_analysis2"
   ]
  },
  {
   "cell_type": "code",
   "execution_count": null,
   "metadata": {},
   "outputs": [],
   "source": [
    "df_analysis2.count()"
   ]
  },
  {
   "cell_type": "code",
   "execution_count": null,
   "metadata": {},
   "outputs": [],
   "source": [
    "a = df.head()[\"DATE_DIED\"]\n",
    "print(a)\n",
    "print(type(a))"
   ]
  },
  {
   "cell_type": "code",
   "execution_count": null,
   "metadata": {},
   "outputs": [],
   "source": [
    "age = df_analysis2[\"AGE\"]\n",
    "age.info()\n",
    "\n",
    "age.hasnans #checking missing data\n"
   ]
  },
  {
   "cell_type": "code",
   "execution_count": null,
   "metadata": {},
   "outputs": [],
   "source": [
    "age.quantile(.1), age.quantile(.25), age.quantile(.5), age.quantile(.75), age.quantile(.99)"
   ]
  },
  {
   "cell_type": "code",
   "execution_count": null,
   "metadata": {},
   "outputs": [],
   "source": [
    "quartiles = pd.DataFrame({'q25' : [45], 'q50' : [59], 'q75': [71]})\n",
    "\n",
    "quartiles.style \\\n",
    "    .relabel_index([\"age\"])\n"
   ]
  },
  {
   "cell_type": "code",
   "execution_count": null,
   "metadata": {},
   "outputs": [],
   "source": [
    "avg_age = df_analysis2[\"AGE\"].mean()\n",
    "avg_age"
   ]
  },
  {
   "cell_type": "code",
   "execution_count": null,
   "metadata": {},
   "outputs": [],
   "source": [
    "df_analysis2['AGE'].min(), df_analysis2['AGE'].max()"
   ]
  },
  {
   "cell_type": "code",
   "execution_count": null,
   "metadata": {},
   "outputs": [],
   "source": [
    "#creating histograms for each variable to see \n",
    "df_analysis2.hist(figsize=(20,20));"
   ]
  },
  {
   "cell_type": "code",
   "execution_count": null,
   "metadata": {},
   "outputs": [],
   "source": [
    "plt.hist(data = df_analysis2, x=\"AGE\", color=\"Pink\", ec='Red')\n",
    "plt.xlabel('Age')\n",
    "plt.ylabel('# The number of people infected');"
   ]
  },
  {
   "cell_type": "code",
   "execution_count": null,
   "metadata": {},
   "outputs": [],
   "source": [
    "sns.set(rc={'figure.figsize':(10,5)})\n",
    "sns.set_style(\"ticks\")\n",
    "ax = sns.boxplot(x=\"AGE\", y=\"PATIENT_TYPE\", data=df_analysis2, orient='h', color = 'blue')\n"
   ]
  },
  {
   "cell_type": "code",
   "execution_count": null,
   "metadata": {},
   "outputs": [],
   "source": [
    "#creating a population of patients who died\n",
    "df_died = df_analysis2.query('~DATE_DIED.isnull()')\n",
    "df_died.count()"
   ]
  },
  {
   "cell_type": "code",
   "execution_count": null,
   "metadata": {},
   "outputs": [],
   "source": [
    "#calculating the death ratio\n",
    "df_died[\"USMER\"].count()/df_analysis2[\"USMER\"].count() "
   ]
  },
  {
   "cell_type": "code",
   "execution_count": null,
   "metadata": {},
   "outputs": [],
   "source": [
    "#comparing the average age of a died person withe the average age of a patient\n",
    "df_died[\"AGE\"].mean(), df_analysis2[\"AGE\"].mean()  "
   ]
  },
  {
   "cell_type": "code",
   "execution_count": null,
   "metadata": {},
   "outputs": [],
   "source": [
    "# After filtering out missing data and removing duplicates there are only women left in the dataset (SEX=1)\n",
    "df_analysis2.query(\"SEX ==1\").count() \n"
   ]
  },
  {
   "cell_type": "code",
   "execution_count": null,
   "metadata": {},
   "outputs": [],
   "source": [
    "df_died[\"AGE\"].min(), df_died[\"AGE\"].max()"
   ]
  },
  {
   "cell_type": "code",
   "execution_count": null,
   "metadata": {},
   "outputs": [],
   "source": [
    "#78 pregnant women died \n",
    "df_died.query(\"PREGNANT == 1\")"
   ]
  },
  {
   "cell_type": "code",
   "execution_count": null,
   "metadata": {},
   "outputs": [],
   "source": [
    "#The average age of a pregnant woman was 31\n",
    "df_died.query(\"PREGNANT == 1\")[\"AGE\"].mean() "
   ]
  },
  {
   "cell_type": "code",
   "execution_count": null,
   "metadata": {},
   "outputs": [],
   "source": [
    "#The average age of a woman who was not pregnant\n",
    "df_died.query(\"PREGNANT != 1\")[\"AGE\"].mean() "
   ]
  },
  {
   "cell_type": "code",
   "execution_count": null,
   "metadata": {},
   "outputs": [],
   "source": [
    "#calculating pneumonia ratio\n",
    "df_analysis2.query(\"PNEUMONIA ==1\")[\"USMER\"].count()/df_analysis2[\"USMER\"].count() "
   ]
  },
  {
   "cell_type": "code",
   "execution_count": null,
   "metadata": {},
   "outputs": [],
   "source": [
    "#calculating pneumonia ratio in the deceased population\n",
    "df_died.query(\"PNEUMONIA ==1\")[\"USMER\"].count()/df_died[\"USMER\"].count()"
   ]
  },
  {
   "cell_type": "code",
   "execution_count": null,
   "metadata": {},
   "outputs": [],
   "source": [
    "#pneumonia ratio\n",
    "\n",
    "pneumonia = df_analysis2.query('PNEUMONIA == 1')['PNEUMONIA'].count()\n",
    "not_pneumonia = df_analysis2.query('PNEUMONIA == 2 or PNEUMONIA == 99')['PNEUMONIA'].count()\n",
    "\n",
    "pneumonia_proportion = pneumonia / df_analysis2['PNEUMONIA'].count()\n",
    "not_pneumonia_proportion = not_pneumonia / df_analysis2['PNEUMONIA'].count()\n",
    "\n",
    "#the death ratio in case of pneumonia infection\n",
    "\n",
    "died_pneumonia = df_died.query('PNEUMONIA == 1')['PNEUMONIA'].count()\n",
    "died_not_pneumonia = df_died.query('PNEUMONIA == 2 or PNEUMONIA == 99')['PNEUMONIA'].count()\n",
    "\n",
    "died_pneumonia_proportion = died_pneumonia / df_died['PNEUMONIA'].count()\n",
    "died_not_pneumonia_proportion = died_not_pneumonia / df_died['PNEUMONIA'].count()\n",
    "\n",
    "\n",
    "died_proportion = df_died[\"USMER\"].count()/df_analysis2[\"USMER\"].count()\n",
    "\n",
    "not_died_proportion = 1 - died_proportion\n",
    "\n"
   ]
  },
  {
   "cell_type": "code",
   "execution_count": null,
   "metadata": {},
   "outputs": [],
   "source": [
    "died_pregnant = df_died.query(\"PREGNANT == 1\").count()\n",
    "pregnant = df_analysis2.query(\"PREGNANT == 1\").count()\n",
    "\n",
    "died_pregnant_proportion = died_pregnant / pregnant"
   ]
  },
  {
   "cell_type": "code",
   "execution_count": null,
   "metadata": {},
   "outputs": [],
   "source": [
    "# First subplot\n",
    "plt.subplot(1, 2, 1)\n",
    "\n",
    "# labels_population = ['Died', 'Survived']\n",
    "sizes_population = [died_proportion, not_died_proportion]\n",
    "colors_population = ['orange', 'purple']\n",
    "explode_population = (0, 0.1)\n",
    "\n",
    "plt.pie(sizes_population, explode=explode_population, colors=colors_population,\n",
    "        autopct='%1.1f%%', shadow=True, startangle=0)\n",
    "plt.axis('equal')\n",
    "plt.title(\"The death ratio in population\")\n",
    "\n",
    "\n",
    "\n",
    "# Second subplot\n",
    "plt.subplot(1, 2, 2)\n",
    "\n",
    "# labels_pneumonia = ['Died - pneumonia', 'Survived - pneumonia']\n",
    "sizes_pneumonia = [died_pneumonia_proportion, died_not_pneumonia_proportion]\n",
    "colors_pneumonia = ['orange', 'purple']\n",
    "explode_pneumonia = (0, 0.1)\n",
    "\n",
    "plt.pie(sizes_pneumonia, explode=explode_pneumonia, colors=colors_pneumonia,\n",
    "        autopct='%1.1f%%', shadow=True, startangle=-50)\n",
    "plt.axis('equal')\n",
    "plt.title(\"The death ratio among patients with pneumonia\", loc='left')\n",
    "\n",
    "\n",
    "legend_labels = ['Died', 'Survived']\n",
    "plt.legend(legend_labels, title=\"Legend\", loc='lower right', bbox_to_anchor=(1.5, 0.5))\n",
    "\n",
    "\n",
    "# Show the plot\n",
    "plt.show()"
   ]
  },
  {
   "cell_type": "code",
   "execution_count": null,
   "metadata": {},
   "outputs": [],
   "source": [
    "#analyzing diabetics in population\n",
    "df_analysis2.query(\"DIABETES ==1\")[\"USMER\"].count()/df_analysis2[\"USMER\"].count() "
   ]
  },
  {
   "cell_type": "code",
   "execution_count": null,
   "metadata": {},
   "outputs": [],
   "source": [
    "#the proportion of diabetics in the population of the deceased\n",
    "df_died.query(\"DIABETES ==1\")[\"USMER\"].count()/df_died[\"USMER\"].count() "
   ]
  },
  {
   "cell_type": "code",
   "execution_count": null,
   "metadata": {},
   "outputs": [],
   "source": [
    "# Chronic Obstructive Pulmonary Disease\n",
    "df_analysis2.query(\"COPD ==1\")[\"USMER\"].count()/df_analysis2[\"USMER\"].count()"
   ]
  },
  {
   "cell_type": "code",
   "execution_count": null,
   "metadata": {},
   "outputs": [],
   "source": [
    "#The death ratio among patients with chronic obstructive pulmonary disease is 42%, compared to the overall mortality rate of 45% (calculated above)\n",
    "df_died.query(\"COPD ==1\").count()/df_analysis2.query(\"COPD ==1\").count() "
   ]
  },
  {
   "cell_type": "code",
   "execution_count": null,
   "metadata": {},
   "outputs": [],
   "source": [
    "#creating a population of so called healthy (without any concomitant disease listed in the dataset)\n",
    "df_healthy = df_analysis2.query(\"DIABETES == 2 & COPD ==2 & ASTHMA ==2 & INMSUPR == 2 & HIPERTENSION ==2 & OTHER_DISEASE ==2 & CARDIOVASCULAR ==2 & RENAL_CHRONIC==2\") "
   ]
  },
  {
   "cell_type": "code",
   "execution_count": null,
   "metadata": {},
   "outputs": [],
   "source": [
    "#Nearly 60% of individuals, so-called \"healthy\" (without comorbidities), developed pneumonia. Interestingly, the pneumonia rate in the entire population is 62% (calculated above).\n",
    "\n",
    "df_healthy.query(\"PNEUMONIA ==1\").count()/df_healthy[\"USMER\"].count() \n",
    "\n"
   ]
  },
  {
   "cell_type": "code",
   "execution_count": null,
   "metadata": {},
   "outputs": [],
   "source": [
    "#creating the population of people who suffer from at least one concomitant disease (from the list)\n",
    "df_sick = df_analysis2.query(\"DIABETES == 1 or COPD ==1 or ASTHMA ==1 or INMSUPR == 1 or HIPERTENSION ==1 or OTHER_DISEASE ==1 or CARDIOVASCULAR ==1 or RENAL_CHRONIC==1\")"
   ]
  },
  {
   "cell_type": "code",
   "execution_count": null,
   "metadata": {},
   "outputs": [],
   "source": [
    "df_sick[\"USMER\"].count()/df_analysis2[\"USMER\"].count() #Individuals with chronic illnesses, accounting for at least one disease, constitute 70% of the population."
   ]
  },
  {
   "cell_type": "code",
   "execution_count": null,
   "metadata": {},
   "outputs": [],
   "source": [
    "df_sick.query(\"INTUBED ==1\").count()/df_sick.count()"
   ]
  },
  {
   "cell_type": "code",
   "execution_count": null,
   "metadata": {},
   "outputs": [],
   "source": [
    "df_healthy.query(\"INTUBED ==1\").count()/df_healthy.count()"
   ]
  },
  {
   "cell_type": "code",
   "execution_count": null,
   "metadata": {},
   "outputs": [],
   "source": [
    "df_healthy.query(\"PNEUMONIA ==1\").count()/df_healthy.count()"
   ]
  },
  {
   "cell_type": "code",
   "execution_count": null,
   "metadata": {},
   "outputs": [],
   "source": [
    "df_analysis2.query(\"PNEUMONIA ==1\").count()/df_analysis2.count()"
   ]
  },
  {
   "cell_type": "code",
   "execution_count": null,
   "metadata": {},
   "outputs": [],
   "source": [
    "#The ratio of chronically ill individuals among the deceased to the total number of deceased is only slightly higher than the rate of sick individuals in the population.\n",
    "df_died.query(\"DIABETES == 1 or COPD ==1 or ASTHMA ==1 or INMSUPR == 1 or HIPERTENSION ==1 or OTHER_DISEASE ==1 or CARDIOVASCULAR ==1 or RENAL_CHRONIC==1\")[\"USMER\"].count()/df_died[\"USMER\"].count() "
   ]
  },
  {
   "cell_type": "code",
   "execution_count": null,
   "metadata": {},
   "outputs": [],
   "source": [
    "# An analysis of the obese patients\n",
    "df_analysis2.query(\"OBESITY ==1\").count()/df_analysis2[\"USMER\"].count()\n"
   ]
  },
  {
   "cell_type": "code",
   "execution_count": null,
   "metadata": {},
   "outputs": [],
   "source": [
    "#In the population, approximately 27% of individuals are obese. The mortality rate among obese individuals is 26%, indicating that obesity does not increase the risk of mortality.\n",
    "df_died.query(\"OBESITY ==1\").count()/df_died[\"USMER\"].count() "
   ]
  },
  {
   "cell_type": "code",
   "execution_count": null,
   "metadata": {},
   "outputs": [],
   "source": [
    "# Smokers\n",
    "df_analysis2.query('TOBACCO ==1')[\"USMER\"].count()/df_analysis2[\"USMER\"].count() "
   ]
  },
  {
   "cell_type": "code",
   "execution_count": null,
   "metadata": {},
   "outputs": [],
   "source": [
    "#Among the deceased population, smokers constitute 4%, which is a lower percentage of smokers among the deceased than in the entire population (6%).\n",
    "df_died.query(\"TOBACCO ==1\").count()/df_died[\"USMER\"].count() "
   ]
  },
  {
   "cell_type": "code",
   "execution_count": null,
   "metadata": {},
   "outputs": [],
   "source": [
    "# The pneumonia rate among obese patients is only slightly higher than the pneumonia  rate in the general population (62%).\n",
    "df_analysis2.query('PNEUMONIA ==1 and OBESITY ==1')[\"USMER\"].count()/df_analysis2.query(\"OBESITY ==1\")[\"USMER\"].count() "
   ]
  },
  {
   "cell_type": "code",
   "execution_count": null,
   "metadata": {},
   "outputs": [],
   "source": [
    "df_analysis2.query('PNEUMONIA ==1')[\"USMER\"].count()/df_analysis2[\"USMER\"].count() "
   ]
  },
  {
   "cell_type": "code",
   "execution_count": null,
   "metadata": {},
   "outputs": [],
   "source": [
    "# Hospitalizowany czy odesłany do domu?\n",
    "# 1 - returned home\n",
    "# 2 - hospitalization\n",
    "\n",
    "df_died.query(\"PATIENT_TYPE ==1\")[\"USMER\"].count()/df_died[\"USMER\"].count() #There were no patients who were returned home and died afterwards."
   ]
  },
  {
   "cell_type": "code",
   "execution_count": null,
   "metadata": {},
   "outputs": [],
   "source": [
    "df_died.query(\"PATIENT_TYPE ==2\")[\"USMER\"].count()/df_died[\"USMER\"].count() #All the deceased were hospitalised."
   ]
  },
  {
   "cell_type": "code",
   "execution_count": null,
   "metadata": {},
   "outputs": [],
   "source": [
    "# The death ratio among hospitalised patients is 45%.\n",
    "\n",
    "df_died.query(\"PATIENT_TYPE ==2\")[\"USMER\"].count()/df_analysis2.query(\"PATIENT_TYPE ==2\")[\"USMER\"].count() "
   ]
  },
  {
   "cell_type": "code",
   "execution_count": null,
   "metadata": {},
   "outputs": [],
   "source": [
    "#CLASSIFICATION_FINAL {1,2,3} means that a patient was diagnosed with COVID, {4,5,6,7} means that a patient was not diagnosed or the result was ambiguous.\n",
    "\n",
    "df_died.query(\"CLASIFFICATION_FINAL == 1 or CLASIFFICATION_FINAL == 2 or CLASIFFICATION_FINAL == 3\")[\"USMER\"].count()/df_analysis2.query(\"CLASIFFICATION_FINAL == 1 or CLASIFFICATION_FINAL == 2 or CLASIFFICATION_FINAL == 3\")[\"USMER\"].count()\n",
    "\n",
    "#The death ratio (57%) among patients diagnosed with Covid is higher when compared to population (45%).\n"
   ]
  },
  {
   "cell_type": "code",
   "execution_count": null,
   "metadata": {},
   "outputs": [],
   "source": [
    "#ICU - Intensive Care Unit\n",
    "\n",
    "df_died.query(\"ICU ==1\")[\"USMER\"].count()/df_died[\"USMER\"].count() #11% of all deceased individuals were in the ICU."
   ]
  },
  {
   "cell_type": "code",
   "execution_count": null,
   "metadata": {},
   "outputs": [],
   "source": [
    "df_analysis2[\"AGE\"].corr(df_analysis[\"PNEUMONIA\"], method='pearson', min_periods=None) #no significant correlation between age and the fact of being diagnosed with pneumonia\n"
   ]
  },
  {
   "cell_type": "code",
   "execution_count": null,
   "metadata": {},
   "outputs": [],
   "source": [
    "df_correlation = df_analysis2.drop(columns = [\"SEX\", \"PATIENT_TYPE\", \"DATE_DIED\"])\n"
   ]
  },
  {
   "cell_type": "code",
   "execution_count": null,
   "metadata": {},
   "outputs": [],
   "source": [
    "#correlation matrix\n",
    "corr = round(df_correlation[df_correlation.columns].corr(),2)\n",
    "plt.rcParams['figure.figsize']=(15,10)\n",
    "%time ax = sns.heatmap(corr, vmax=1., vmin=-1., annot=True, linewidths=.8, cmap=\"Oranges\")\n",
    "\n",
    "# correcting matplotlib issue with cutting edges\n",
    "bottom, top = ax.get_ylim()\n",
    "ax.set_ylim(bottom + 0.5, top - 0.5);\n",
    "\n",
    "\n"
   ]
  },
  {
   "cell_type": "code",
   "execution_count": null,
   "metadata": {},
   "outputs": [],
   "source": [
    "# Defining age buckets and lables for a heatmap\n",
    "bins = [0, 10, 20, 30, 40, 50, 60, 70, 80, 90, 100, 130]\n",
    "\n",
    "labels = ['(0;10]', '(11;20]', '(21;30]', '(31;40]', '(41;50]', '(51;60]', '(61;70]', '(71;80]', '(81;90]', '(91;100]','(101+)']\n",
    "\n",
    "df_analysis2['age_group'] = pd.cut(df_analysis2['AGE'], bins=bins, labels=labels, right=True)\n"
   ]
  },
  {
   "cell_type": "code",
   "execution_count": null,
   "metadata": {},
   "outputs": [],
   "source": [
    "\n",
    "# Zamiana daty śmierci na 1, a brakujące dane (NaN) na 0 w nowej kolumnie \"DEAD\"\n",
    "df_analysis2s['DEAD'] = df_analysis2['DATE_DIED'].notnull().astype(int)\n",
    "\n",
    "# Tworzenie DataFrame'u przystosowanego do heatmapy\n",
    "df_analysis2_heatmap = df_analysis2.pivot_table(index='age_group', columns='DIAGNOSED_COVID', values='DEAD', aggfunc='sum', fill_value=0)\n",
    "\n",
    "# Tworzenie heatmapy przy użyciu Seaborn\n",
    "plt.figure(figsize=(5, 5))\n",
    "sns.heatmap(df_analysis2_heatmap, cmap=\"BuPu\")\n",
    "\n",
    "# Odwracanie osi y\n",
    "plt.gca().invert_yaxis()\n",
    "\n",
    "plt.title(\"Heatmap of the deceased\")\n",
    "plt.xlabel(\"Diagnosed Covid \")\n",
    "plt.ylabel(\"Age\")\n",
    "\n",
    "# Wyświetlanie wykresu\n",
    "plt.show()"
   ]
  }
 ],
 "metadata": {
  "kernelspec": {
   "display_name": "python_intro",
   "language": "python",
   "name": "python3"
  },
  "language_info": {
   "codemirror_mode": {
    "name": "ipython",
    "version": 3
   },
   "file_extension": ".py",
   "mimetype": "text/x-python",
   "name": "python",
   "nbconvert_exporter": "python",
   "pygments_lexer": "ipython3",
   "version": "3.11.5"
  }
 },
 "nbformat": 4,
 "nbformat_minor": 2
}
