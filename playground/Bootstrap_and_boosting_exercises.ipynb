{
 "cells": [
  {
   "cell_type": "code",
   "execution_count": 1,
   "metadata": {},
   "outputs": [],
   "source": [
    "from sklearn.ensemble import BaggingClassifier\n",
    "from sklearn.tree import DecisionTreeClassifier\n",
    "from sklearn.datasets import load_iris\n",
    "from sklearn.model_selection import train_test_split"
   ]
  },
  {
   "cell_type": "code",
   "execution_count": 2,
   "metadata": {},
   "outputs": [],
   "source": [
    "#data load\n",
    "\n",
    "iris = load_iris()\n",
    "X, y = iris.data, iris.target\n",
    "\n",
    "# using train_test_split\n",
    "\n",
    "X_train, X_test, y_train, y_test = train_test_split(X, y, test_size=0.3, random_state=1)\n"
   ]
  },
  {
   "cell_type": "code",
   "execution_count": 3,
   "metadata": {},
   "outputs": [
    {
     "name": "stdout",
     "output_type": "stream",
     "text": [
      "Acuuracy score for the model is: 0.9555555555555556.\n"
     ]
    }
   ],
   "source": [
    "#creating bagging model - Decision Tree\n",
    "\n",
    "bagg_model = BaggingClassifier(DecisionTreeClassifier(), n_estimators=200, max_samples=0.8, random_state=1)\n",
    "bagg_model.fit(X_train, y_train)\n",
    "\n",
    "# checking accuracy of the model\n",
    "\n",
    "accuracy = bagg_model.score(X_test, y_test)\n",
    "print(f\"Acuuracy score for the model is: {accuracy}.\")"
   ]
  },
  {
   "cell_type": "code",
   "execution_count": 4,
   "metadata": {},
   "outputs": [],
   "source": [
    "from sklearn.datasets import load_breast_cancer\n",
    "from sklearn.tree import DecisionTreeClassifier\n",
    "from sklearn.ensemble import BaggingClassifier\n",
    "from sklearn.metrics import accuracy_score"
   ]
  },
  {
   "cell_type": "code",
   "execution_count": 5,
   "metadata": {},
   "outputs": [
    {
     "name": "stdout",
     "output_type": "stream",
     "text": [
      "While accuracy for the basic Decision Tree model is 0.9415204678362573, the parameter for Bagging Classifier amounts to 0.9590643274853801.\n"
     ]
    }
   ],
   "source": [
    "#importing data\n",
    "cancer = load_breast_cancer()\n",
    "cancer_features = cancer.data\n",
    "cancer_target = cancer.target\n",
    "\n",
    "#train_test_split\n",
    "X_train,X_test, y_train, y_test = train_test_split(cancer_features, cancer_target, test_size= 0.3, random_state=1)\n",
    "\n",
    "#Decision_tree - without bagging\n",
    "cancer_tree = DecisionTreeClassifier()\n",
    "cancer_tree.fit(X_train, y_train)\n",
    "tree_pred = cancer_tree.predict(X_test)\n",
    "\n",
    "tree_accuracy = accuracy_score(y_test, tree_pred)\n",
    "\n",
    "# Decision_tree with bagging\n",
    "\n",
    "cancer_tree_bagging = BaggingClassifier(DecisionTreeClassifier(), n_estimators=100, max_samples=0.8, random_state=1)\n",
    "cancer_tree_bagging.fit(X_train, y_train)\n",
    "bagging_pred = cancer_tree_bagging.predict(X_test)\n",
    "\n",
    "\n",
    "bagging_accuracy = accuracy_score(y_test, bagging_pred)\n",
    "\n",
    "\n",
    "print(f\"While accuracy for the basic Decision Tree model is {tree_accuracy}, the parameter for Bagging Classifier amounts to {bagging_accuracy}.\")"
   ]
  },
  {
   "cell_type": "markdown",
   "metadata": {},
   "source": [
    "# Boosting \n"
   ]
  },
  {
   "cell_type": "code",
   "execution_count": 6,
   "metadata": {},
   "outputs": [
    {
     "name": "stderr",
     "output_type": "stream",
     "text": [
      "/home/kata/apps/anaconda3/envs/python_intro/lib/python3.11/site-packages/sklearn/ensemble/_base.py:156: FutureWarning: `base_estimator` was renamed to `estimator` in version 1.2 and will be removed in 1.4.\n",
      "  warnings.warn(\n"
     ]
    },
    {
     "name": "stdout",
     "output_type": "stream",
     "text": [
      "Accuracy of Adaptive Boosting equals 0.9883040935672515.\n"
     ]
    }
   ],
   "source": [
    "from sklearn.ensemble import AdaBoostClassifier\n",
    "\n",
    "\n",
    "#train_test_split for Adaptive Booster Classifier\n",
    "\n",
    "X_train, X_test,y_train, y_test = train_test_split(cancer_features, cancer_target, test_size=0.3, random_state=10)\n",
    "\n",
    "#creating a model\n",
    "\n",
    "adaptive_boost_model = AdaBoostClassifier(base_estimator=DecisionTreeClassifier(max_leaf_nodes=8), n_estimators=100, learning_rate=1, random_state=5)\n",
    "adaptive_boost_model.fit(X_train, y_train)\n",
    "adaptive_boost_pred = adaptive_boost_model.predict(X_test)\n",
    "\n",
    "adaptive_boost_acc = accuracy_score(y_test,adaptive_boost_pred)\n",
    "\n",
    "print(f\"Accuracy of Adaptive Boosting equals {adaptive_boost_acc}.\")"
   ]
  }
 ],
 "metadata": {
  "kernelspec": {
   "display_name": "juniords",
   "language": "python",
   "name": "python3"
  },
  "language_info": {
   "codemirror_mode": {
    "name": "ipython",
    "version": 3
   },
   "file_extension": ".py",
   "mimetype": "text/x-python",
   "name": "python",
   "nbconvert_exporter": "python",
   "pygments_lexer": "ipython3",
   "version": "3.11.5"
  }
 },
 "nbformat": 4,
 "nbformat_minor": 2
}
